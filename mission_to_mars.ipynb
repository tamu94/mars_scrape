{
 "cells": [
  {
   "cell_type": "code",
   "execution_count": 1,
   "metadata": {},
   "outputs": [],
   "source": [
    "# Install dependencies\n",
    "import pandas as pd\n",
    "import os\n",
    "from bs4 import BeautifulSoup\n",
    "import requests\n",
    "from pprint import pprint\n",
    "import json\n"
   ]
  },
  {
   "cell_type": "code",
   "execution_count": 2,
   "metadata": {},
   "outputs": [],
   "source": [
    "#URL's of pages to be scraped\n",
    "# NASA news web page = \"https://mars.nasa.gov/news/\"\n",
    "nasa_news_url = \"https://mars.nasa.gov/api/v1/news_items/?page=0&per_page=40&order=publish_date+desc%2Ccreated_at+desc&search=&blank_scope=Latest\"\n",
    "jpl_images_url = \"https://www.jpl.nasa.gov/spaceimages/?search=&category=Mars\"\n",
    "jpl_base = \"https://www.jpl.nasa.gov\"\n",
    "mars_weather_url = \"https://twitter.com/marswxreport?lang=en\"\n",
    "mars_facts_url = \"http://space-facts.com/mars/\"\n",
    "usgs_images_url = \"https://astrogeology.usgs.gov/search/results?q=hemisphere+enhanced&k1=target&v1=Mars\"\n"
   ]
  },
  {
   "cell_type": "code",
   "execution_count": 3,
   "metadata": {},
   "outputs": [],
   "source": [
    "# Response function to use requests\n",
    "def response(url):\n",
    "    response = requests.get(url)\n",
    "    return response\n",
    "# Function to write response infomration to file\n",
    "def open_file(file_name, response):\n",
    "    with open(file_name,\"w+\") as write_file:\n",
    "        json.dump(response,write_file)"
   ]
  },
  {
   "cell_type": "code",
   "execution_count": 4,
   "metadata": {},
   "outputs": [],
   "source": [
    "#Mars news scrape -we will use the JSON response from teh news page.  \"https://mars.nasa.gov/api/v1/news_items/*\n",
    "# This is an API and returns a nested JSON with all the information we need (title, short description, etc.)"
   ]
  },
  {
   "cell_type": "code",
   "execution_count": 5,
   "metadata": {},
   "outputs": [],
   "source": [
    "mars_news_json = response(nasa_news_url).json()"
   ]
  },
  {
   "cell_type": "code",
   "execution_count": 6,
   "metadata": {},
   "outputs": [],
   "source": [
    "# Write JSON data to file\n",
    "open_file(\"mars_news_data_file.json\", mars_news_json)"
   ]
  },
  {
   "cell_type": "code",
   "execution_count": 7,
   "metadata": {},
   "outputs": [],
   "source": [
    "# pprint(mars_news_json)"
   ]
  },
  {
   "cell_type": "code",
   "execution_count": 8,
   "metadata": {},
   "outputs": [],
   "source": [
    "# The code below was sourced from https://hackersandslackers.com/extract-data-from-complex-json-python/\n",
    "# It extracts nested data from a complex JSON\n",
    "def extract_values(obj, key):\n",
    "    \"\"\"Pull all values of specified key from nested JSON.\"\"\"\n",
    "    arr = []\n",
    "\n",
    "    def extract(obj, arr, key):\n",
    "        \"\"\"Recursively search for values of key in JSON tree.\"\"\"\n",
    "        if isinstance(obj, dict):\n",
    "            for k, v in obj.items():\n",
    "                if isinstance(v, (dict, list)):\n",
    "                    extract(v, arr, key)\n",
    "                elif k == key:\n",
    "                    arr.append(v)\n",
    "        elif isinstance(obj, list):\n",
    "            for item in obj:\n",
    "                extract(item, arr, key)\n",
    "        return arr\n",
    "\n",
    "    results = extract(obj, arr, key)\n",
    "    return results"
   ]
  },
  {
   "cell_type": "code",
   "execution_count": 9,
   "metadata": {},
   "outputs": [],
   "source": [
    "titles = extract_values(mars_news_json,\"title\")\n",
    "# print(titles)"
   ]
  },
  {
   "cell_type": "code",
   "execution_count": 10,
   "metadata": {},
   "outputs": [],
   "source": [
    "# Extract the most recent title.  They are in order from newest to oldest in the titles list\n",
    "news_title = titles[0]"
   ]
  },
  {
   "cell_type": "code",
   "execution_count": 11,
   "metadata": {},
   "outputs": [],
   "source": [
    "# print (news_title)"
   ]
  },
  {
   "cell_type": "code",
   "execution_count": 12,
   "metadata": {},
   "outputs": [],
   "source": [
    "# Bonus return the short paragrapgh text \"description\"\n",
    "descriptions = extract_values(mars_news_json, \"description\")\n",
    "# print (descriptions[0])"
   ]
  },
  {
   "cell_type": "code",
   "execution_count": 13,
   "metadata": {},
   "outputs": [],
   "source": [
    "# Get URL for Featured JPL Mars IMage\n",
    "mars_image_text = response(jpl_images_url).text\n",
    "# Write JSON data to file\n",
    "open_file(\"jpl_image_file.json\", mars_image_text)\n",
    "    \n",
    "# print(mars_image_text)"
   ]
  },
  {
   "cell_type": "code",
   "execution_count": 93,
   "metadata": {},
   "outputs": [],
   "source": [
    "soup=BeautifulSoup(mars_image_text, 'lxml')\n",
    "footer_tag = soup.footer.a.attrs"
   ]
  },
  {
   "cell_type": "code",
   "execution_count": 98,
   "metadata": {},
   "outputs": [],
   "source": [
    "# Get the url for the featured image on the JPL Mars page\n",
    "img_url = footer_tag['data-fancybox-href']\n",
    "featured_image_url = jpl_base + img_url\n",
    "# print(featured_image_url)"
   ]
  },
  {
   "cell_type": "code",
   "execution_count": 95,
   "metadata": {},
   "outputs": [],
   "source": [
    "#get the latest Mars weather from twitter\n",
    "mars_twitter_text = response(mars_weather_url).text\n",
    "# Write JSON data to file\n",
    "open_file(\"mars_weather_file.json\", mars_twitter_text)"
   ]
  },
  {
   "cell_type": "code",
   "execution_count": 17,
   "metadata": {},
   "outputs": [],
   "source": [
    "soup=BeautifulSoup(mars_twitter_text, 'lxml')\n",
    "mars_weather = soup.find(class_='tweet-text').get_text()"
   ]
  },
  {
   "cell_type": "code",
   "execution_count": 97,
   "metadata": {},
   "outputs": [],
   "source": [
    "# print(mars_weather)"
   ]
  },
  {
   "cell_type": "code",
   "execution_count": 19,
   "metadata": {},
   "outputs": [],
   "source": [
    "# get mars facts from space-facts.com using pandas"
   ]
  },
  {
   "cell_type": "code",
   "execution_count": 20,
   "metadata": {},
   "outputs": [],
   "source": [
    "dfs = pd.read_html(mars_facts_url, header = None)[0]\\\n",
    "                            .rename(columns={0:'description', 1:'value'})\n"
   ]
  },
  {
   "cell_type": "code",
   "execution_count": 99,
   "metadata": {},
   "outputs": [],
   "source": [
    "# print(dfs)"
   ]
  },
  {
   "cell_type": "code",
   "execution_count": 22,
   "metadata": {},
   "outputs": [],
   "source": [
    "# Convert string to dataframe\n",
    "mars_facts_df = pd.DataFrame(dfs)"
   ]
  },
  {
   "cell_type": "code",
   "execution_count": 100,
   "metadata": {},
   "outputs": [],
   "source": [
    "# mars_facts_df.head()"
   ]
  },
  {
   "cell_type": "code",
   "execution_count": 88,
   "metadata": {},
   "outputs": [],
   "source": [
    "# Get mars hemisphere images from usgs\n",
    "mars_usgs_text = response(usgs_images_url).text\n",
    "astro_usgs_base_url = \"https://astrogeology.usgs.gov\""
   ]
  },
  {
   "cell_type": "code",
   "execution_count": 85,
   "metadata": {},
   "outputs": [],
   "source": [
    "# print(mars_usgs_text)"
   ]
  },
  {
   "cell_type": "code",
   "execution_count": 86,
   "metadata": {},
   "outputs": [],
   "source": [
    "soup=BeautifulSoup(mars_usgs_text, 'lxml')\n",
    "mars_usgs_tags = soup.find_all(class_='itemLink product-item')\n",
    "# pprint(mars_usgs_tags)"
   ]
  },
  {
   "cell_type": "code",
   "execution_count": 84,
   "metadata": {},
   "outputs": [
    {
     "name": "stdout",
     "output_type": "stream",
     "text": [
      "['Cerberus Hemisphere Enhanced', 'Schiaparelli Hemisphere Enhanced', 'Syrtis Major Hemisphere Enhanced', 'Valles Marineris Hemisphere Enhanced']\n"
     ]
    }
   ],
   "source": [
    "# Get names of thumbnail images\n",
    "h3_tags = soup.find_all('h3')\n",
    "hemi_titles = [t.text for t in h3_tags]\n",
    "print(hemi_titles)"
   ]
  },
  {
   "cell_type": "code",
   "execution_count": 89,
   "metadata": {},
   "outputs": [],
   "source": [
    "# Get link for full size image\n",
    "hrefs = [(astro_usgs_base_url + t.attrs['href']) for t in mars_usgs_tags]"
   ]
  },
  {
   "cell_type": "code",
   "execution_count": 90,
   "metadata": {},
   "outputs": [
    {
     "name": "stdout",
     "output_type": "stream",
     "text": [
      "['https://astrogeology.usgs.gov/search/map/Mars/Viking/cerberus_enhanced', 'https://astrogeology.usgs.gov/search/map/Mars/Viking/schiaparelli_enhanced', 'https://astrogeology.usgs.gov/search/map/Mars/Viking/syrtis_major_enhanced', 'https://astrogeology.usgs.gov/search/map/Mars/Viking/valles_marineris_enhanced']\n"
     ]
    }
   ],
   "source": [
    "print(hrefs)"
   ]
  },
  {
   "cell_type": "code",
   "execution_count": 101,
   "metadata": {},
   "outputs": [],
   "source": [
    "# assign the image urls to a variable.  These will be used by Requests to get the high res image\n",
    "image1_url = hrefs[0]\n",
    "image2_url = hrefs[1]\n",
    "image3_url = hrefs[2]\n",
    "image4_url = hrefs[3]"
   ]
  },
  {
   "cell_type": "code",
   "execution_count": 102,
   "metadata": {},
   "outputs": [
    {
     "name": "stdout",
     "output_type": "stream",
     "text": [
      "<!DOCTYPE html>\r\n",
      "<html lang=\"en\">\r\n",
      "\t<head>\r\n",
      "\t\t<link rel=\"stylesheet\" type=\"text/css\" href=\"//ajax.googleapis.com/ajax/libs/jqueryui/1.11.4/themes/smoothness/jquery-ui.css\" />\n",
      "<title>Cerberus Hemisphere Enhanced | USGS Astrogeology Science Center</title>\r\n",
      "\t\t<meta name=\"description\" content=\"Mosaic of the Cerberus hemisphere of Mars projected into point perspective, a view similar to that which one would see from&hellip;\"/>\r\n",
      "\t\t<meta name=\"keywords\" content=\"USGS,Astrogeology Science Center,Cartography,Geology,Space,Geological Survey,Mapping\"/>\r\n",
      "\t\t<meta http-equiv=\"X-UA-Compatible\" content=\"IE=edge\"/>\r\n",
      "\t\t<meta http-equiv=\"Content-Type\" content=\"text/html; charset=utf-8\"/>\r\n",
      "\t\t<meta name=\"viewport\" content=\"width=device-width, initial-scale=1, maximum-scale=1\"/>\r\n",
      "\t\t<meta name=\"google-site-verification\" content=\"x61hXXVj7wtfBSNOPnTftajMsZ5yB2W-qRoyr7GtOKM\"/>\r\n",
      "\t\t<!--<link rel=\"stylesheet\" href=\"http://fonts.googleapis.com/css?family=Open+Sans:400italic,400,bold\"/>-->\r\n",
      "\t\t<link rel=\"stylesheet\" media=\"screen\" href=\"/css/main.css\"/>\r\n",
      "\t\t<link rel=\"stylesheet\" media=\"print\" href=\"/css/print.css\"/>\r\n",
      "\t\t<!--[if lt IE 9]>\r\n",
      "\t\t\t<script src=\"http://html5shiv.googlecode.com/svn/trunk/html5.js\"></script>\r\n",
      "\t\t\t<script src=\"/js/respond.min.js\"></script>\r\n",
      "\t\t\t<link rel=\"stylesheet\" type=\"text/css\" href=\"/css/ie.css\"/>\r\n",
      "                        <script>\r\n",
      "                          document.createElement('header');\r\n",
      "                          document.createElement('nav');\r\n",
      "                          document.createElement('section');\r\n",
      "                          document.createElement('article');\r\n",
      "                          document.createElement('aside');\r\n",
      "                          document.createElement('footer');\r\n",
      "                          document.createElement('hgroup');\r\n",
      "                        </script>\r\n",
      "                  <![endif]-->\r\n",
      "\t\t<link rel=\"icon\" type=\"image/x-ico\" href=\"/favicon.ico\"/>\r\n",
      "\t</head>\r\n",
      "\t<body id=\"splashy\">\r\n",
      "\t\t<header>\r\n",
      "<!--\r\n",
      "\t\t\t<h1>Astrogeology Science Center</h1>\r\n",
      "-->\r\n",
      "\t\t\t<a href=\"https://www.usgs.gov/centers/astrogeo-sc\" style=\"float:right;margin-top:10px;\">\r\n",
      "\t\t\t\t<img class=\"logo\" height=\"60\" src=\"/images/usgs_logo_main_2x.png\" alt=\"USGS: Science for a Changing World\"/>\r\n",
      "\t\t\t</a>\r\n",
      "\t\t\t<a href=\"https://nasa.gov\" style=\"float:right;margin-top:5px;margin-right:20px;\">\r\n",
      "\t\t\t\t<img class=\"logo\" height=\"65\" src=\"/images/logos/nasa-logo-web-med.png\" alt=\"NASA\"/>\r\n",
      "\t\t\t</a>\r\n",
      "\t\t\t<a href=\"https://pds-imaging.jpl.nasa.gov/\" style=\"float:right;margin-top:5px;margin-right: 10px;\">\r\n",
      "\t\t\t\t<img class=\"logo\" height=\"65\" src=\"/images/pds_logo-invisible-web.png\" alt=\"PDS Cartography and Imaging Science Node\"/>\r\n",
      "\t\t\t</a>\r\n",
      "\t\t</header>\r\n",
      "\t\t<div class=\"wrapper\">\r\n",
      "<!--\r\n",
      "\t\t\t<nav>\r\n",
      "\t\t\t\t<a id=\"nav-toggle\" href=\"#\" title=\"Navigation Menu\">Menu</a>\r\n",
      "<ul class=\"dropdown dropdown-horizontal\" id=\"yw0\">\n",
      "<li><a href=\"/\">Home</a></li>\n",
      "<li><a href=\"/about\">About</a>\n",
      "<ul>\n",
      "<li><a href=\"/about/careers\">Careers</a></li>\n",
      "<li><a href=\"/contact\">Contact</a></li>\n",
      "<li><a href=\"/about/events\">Events</a></li>\n",
      "<li><a href=\"/site/glossary\">Glossary</a></li>\n",
      "<li><a href=\"/about/mission\">Mission</a></li>\n",
      "<li><a href=\"/news\">News</a></li>\n",
      "<li><a href=\"/people\">People</a></li>\n",
      "<li><a href=\"/about/using-our-images\">Using Our Images</a></li>\n",
      "<li><a href=\"/about/visitors\">Visitors</a></li>\n",
      "</ul>\n",
      "</li>\n",
      "<li><a href=\"/facilities\">Labs / Facilities</a>\n",
      "<ul>\n",
      "<li><a href=\"/facilities/flynn-creek-crater-sample-collection\">Flynn Creek Crater Sample Collection</a></li>\n",
      "<li><a href=\"http://www.moon-cal.org\">Lunar Calibration Project</a></li>\n",
      "<li><a href=\"/facilities/meteor-crater-sample-collection\">Meteor Crater Sample Collection</a></li>\n",
      "<li><a href=\"/facilities/mrctr\">MRCTR GIS Lab</a></li>\n",
      "<li><a href=\"/facilities/cartography-and-imaging-sciences-node-of-nasa-planetary-data-system\">PDS Cartography and Imaging Sciences Node</a></li>\n",
      "<li><a href=\"/pds/annex\">PDS IMG Annex</a></li>\n",
      "<li><a href=\"/facilities/photogrammetry-guest-facility\">Photogrammetry Guest Facility</a></li>\n",
      "<li><a href=\"/rpif\">Regional Planetary Information Facility (RPIF)</a></li>\n",
      "</ul>\n",
      "</li>\n",
      "<li><a href=\"/maps\">Maps / Products</a>\n",
      "<ul>\n",
      "<li><a href=\"/search\">Product Search</a></li>\n",
      "<li><a href=\"http://planetarynames.wr.usgs.gov\">Gazetteer of Planetary Nomenclature</a></li>\n",
      "<li><a href=\"http://planetarymapping.wr.usgs.gov\">Geologic Mapping Program</a></li>\n",
      "<li><a href=\"http://pilot.wr.usgs.gov\">Planetary Image Locator Tool (PILOT)</a></li>\n",
      "<li><a href=\"/search/planetary-index\">Planetary Map Index</a></li>\n",
      "</ul>\n",
      "</li>\n",
      "<li><a href=\"/geology\">Missions / Research</a>\n",
      "<ul>\n",
      "<li><a href=\"/geology/mars-dunes\">Mars Dunes</a></li>\n",
      "<li><a href=\"/geology/mars-ice\">Mars Ice</a></li>\n",
      "<li><a href=\"/missions\">Mission Support</a></li>\n",
      "<li><a href=\"/solar-system\">Solar System</a></li>\n",
      "<li><a href=\"/groups\">Working Groups</a></li>\n",
      "</ul>\n",
      "</li>\n",
      "<li><a href=\"/tools\">Tools</a>\n",
      "<ul>\n",
      "<li><a href=\"http://planetarynames.wr.usgs.gov\">Gazetteer of Planetary Nomenclature</a></li>\n",
      "<li><a href=\"http://isis.astrogeology.usgs.gov\">Integrated Software for Imagers and Spectrometers (ISIS)</a></li>\n",
      "<li><a href=\"http://astrogeology.usgs.gov/tools/map-a-planet-2\">Map a Planet 2</a></li>\n",
      "<li><a href=\"http://pilot.wr.usgs.gov\">Planetary Image Locator Tool (PILOT)</a></li>\n",
      "<li><a href=\"http://astrocloud.wr.usgs.gov/\">Projection on the Web (POW)</a></li>\n",
      "</ul>\n",
      "</li>\n",
      "</ul>\t\t\t\t<form id=\"search\" class=\"search\" action=\"/search/results\" method=\"get\">\r\n",
      "\t\t\t\t\t<input type=\"submit\" value=\"\" title=\"Search Astropedia\"/>\r\n",
      "\t\t\t\t\t<input type=\"text\" placeholder=\"Search\" name=\"q\"/>\r\n",
      "\t\t\t\t</form>\r\n",
      "\t\t\t</nav>\r\n",
      "-->\r\n",
      "\t\t\t<div class=\"container\">\r\n",
      "\t\t\t\t<div class=\"widget block bar\">\n",
      "  <a style=\"float:right;text-decoration:none;\" href=\"/search\">\n",
      "\t\t<img style=\"width:200px;border:none;float:right;\" src=\"/images/astropedia/astropedia-logo-main.png\" alt=\"Astropedia\"/>\n",
      "\t\t<div style=\"clear:both;font-size:.8em;float:right;color:#888;\">Lunar and Planetary Cartographic Catalog</div>\n",
      "  </a>\n",
      "   <div style=\"float:left;height:60px;\">\n",
      "   </div>\n",
      "</div>\n",
      "<div id=\"wide-image\" class=\"wide-image-wrapper \">\n",
      "   \n",
      "\t<div class=\"downloads\">\n",
      "\t\t<img class=\"thumb\" src=\"/cache/images/dfaf3849e74bf973b59eb50dab52b583_cerberus_enhanced.tif_thumb.png\"/>\n",
      "\t\t<h3>Download</h3>\n",
      "<ul>\n",
      "\n",
      "\t   <li><a target=\"_blank\" href=\"http://astropedia.astrogeology.usgs.gov/download/Mars/Viking/cerberus_enhanced.tif/full.jpg\">Sample</a> (jpg) 1024px wide</li>\n",
      "\t   <li><a target=\"_blank\" href=\"http://astropedia.astrogeology.usgs.gov/download/Mars/Viking/cerberus_enhanced.tif\"  >Original</a> (tif) 21 MB</li>\n",
      "\t\t</ul>\n",
      "\t</div>\n",
      "\n",
      "\t<img class=\"wide-image\" src=\"/cache/images/cfa62af2557222a02478f1fcd781d445_cerberus_enhanced.tif_full.jpg\"/>\n",
      "\t\t<a id=\"wide-image-toggle\" class=\"open-toggle\" href=\"#open\">Open</a>\n",
      "\t</div>\n",
      "\t<div class=\"content\">\n",
      "\n",
      "\n",
      "\t\t<section class=\"block metadata\">\n",
      "<!--\n",
      "\t\t\t-->\n",
      "\t\t\t<h2 class=\"title\">Cerberus Hemisphere Enhanced</h2>\n",
      "\t\t\t\t\t\t\t <p>Mosaic of the Cerberus hemisphere of Mars projected into point perspective, a view similar to that which one would see from a spacecraft. This mosaic is composed of 104 Viking Orbiter images acquired on February 11, 1980. At that time, it was early northern summer on Mars. The center of the image is at latitude 3 degrees, longitude 185 degrees.</p>\n",
      "\n",
      "\t\t\t\t\t\t<dl>\n",
      " \t\t         \n",
      "\t\t\t\t<dt>Mimetype</dt>\n",
      "\t\t\t\t   <!--\n",
      "\t\t\t\t<dd><a href=\"/search/results?m=image/tiff\">image/tiff</a></dd>\n",
      "\t\t\t\t   -->\n",
      "                                <dd>image/tiff</dd>\n",
      "\t\t\t<dt>Filename</dt><dd><a href=\"http://astropedia.astrogeology.usgs.gov/download/Mars/Viking/cerberus_enhanced.tif\">cerberus_enhanced.tif</a></dd><dt>Originator</dt><dd></dd><dt>Group</dt><dd></dd><dt>Added to Astropedia</dt><dd>29 September 2011</dd><dt>Modified</dt><dd>3 November 2017</dd></dl><h2>General</h2><dl><dt>Geospatial Data Presentation Form</dt><dd><a href=\"/search/results?k1=geospatial_data_presentation_form&v1=Global+Mosaic\">Global Mosaic</a></dd></dl><h2>Keywords</h2><dl><dt>Target</dt><dd><a href=\"/search?pmi-target=mars\">Mars</a></dd><dt>Mission</dt><dd><a href=\"/search/results?k1=mission&v1=Viking+Orbiter\">Viking Orbiter</a></dd></dl><h2>Geospatial Information</h2><dl><dt>Quad Name</dt><dd></dd>\t\t</dl>\n",
      "\t</section>\n",
      "</div>\n",
      "<div class=\"sidebar\">\n",
      "\n",
      "<div class=\"block\">\n",
      "    <h3 class=\"title\">FGDC: <a href=\"#\" style=\"text-decoration:none;\" id=\"fgdcLink\" download >xml metadata</a></h3>\n",
      "    <script>\n",
      "       var currentURL = window.location.href+'.xml';\n",
      "       document.getElementById('fgdcLink').href=currentURL;\n",
      "    </script>\n",
      "</div>\n",
      "\n",
      "\t<div class=\"block\">\n",
      "\t\t<h3 class=\"title\">Related Products</h3>\n",
      "\n",
      "\t\t<a href=\"/search/map/Mars/Viking/valles_marineris_unenhanced\" class=\"item\">\n",
      "\t\t\t<img class=\"thumb description-thumb\"\n",
      "\t\t\t\tsrc=\"/cache/images/624683252b31408dabbc5c051b12a777_valles_marineris_unenhanced.tif_thumb.png\"\n",
      "\t\t\t\talt=\"Valles Marineris Hemisphere Unenhanced thumbnail\"/>\n",
      "\t\t\t<div class=\"description\">\n",
      "\t\t\t\t<h3>Valles Marineris Hemisphere Unenhanced</h3>\n",
      "\t<p>Mosaic of the Valles Marineris hemisphere of Mars projected into&hellip;</p>\n",
      "\t\t\t</div>\n",
      "\t\t</a>\n",
      "\t\n",
      "\t\t<a href=\"/search/map/Mars/Viking/valles_marineris_enhanced\" class=\"item\">\n",
      "\t\t\t<img class=\"thumb description-thumb\"\n",
      "\t\t\t\tsrc=\"/cache/images/04085d99ec3713883a9a57f42be9c725_valles_marineris_enhanced.tif_thumb.png\"\n",
      "\t\t\t\talt=\"Valles Marineris Hemisphere Enhanced thumbnail\"/>\n",
      "\t\t\t<div class=\"description\">\n",
      "\t\t\t\t<h3>Valles Marineris Hemisphere Enhanced</h3>\n",
      "\t<p>Mosaic of the Valles Marineris hemisphere of Mars projected into&hellip;</p>\n",
      "\t\t\t</div>\n",
      "\t\t</a>\n",
      "\t\n",
      "\t\t<a href=\"/search/map/Mars/Viking/syrtis_major_unenhanced\" class=\"item\">\n",
      "\t\t\t<img class=\"thumb description-thumb\"\n",
      "\t\t\t\tsrc=\"/cache/images/0039e532ab44f7836f8a384d6f9adc3f_syrtis_major_unenhanced.tif_thumb.png\"\n",
      "\t\t\t\talt=\"Syrtis Major Hemisphere Unenhanced thumbnail\"/>\n",
      "\t\t\t<div class=\"description\">\n",
      "\t\t\t\t<h3>Syrtis Major Hemisphere Unenhanced</h3>\n",
      "\t<p>Mosaic of the Syrtis Major hemisphere of Mars projected into point&hellip;</p>\n",
      "\t\t\t</div>\n",
      "\t\t</a>\n",
      "\t\n",
      "\t\t<a href=\"/search/map/Mars/Viking/syrtis_major_enhanced\" class=\"item\">\n",
      "\t\t\t<img class=\"thumb description-thumb\"\n",
      "\t\t\t\tsrc=\"/cache/images/aae41197e40d6d4f3ea557f8cfe51d15_syrtis_major_enhanced.tif_thumb.png\"\n",
      "\t\t\t\talt=\"Syrtis Major Hemisphere Enhanced thumbnail\"/>\n",
      "\t\t\t<div class=\"description\">\n",
      "\t\t\t\t<h3>Syrtis Major Hemisphere Enhanced</h3>\n",
      "\t<p>Mosaic of the Syrtis Major hemisphere of Mars projected into point&hellip;</p>\n",
      "\t\t\t</div>\n",
      "\t\t</a>\n",
      "\t\n",
      "\t\t<a href=\"/search/map/Mars/Viking/schiaparelli_unenhanced\" class=\"item\">\n",
      "\t\t\t<img class=\"thumb description-thumb\"\n",
      "\t\t\t\tsrc=\"/cache/images/eeda48b8f032727970d735b2b689937c_schiaparelli_unenhanced.tif_thumb.png\"\n",
      "\t\t\t\talt=\"Schiaparelli Hemisphere Unenhanced thumbnail\"/>\n",
      "\t\t\t<div class=\"description\">\n",
      "\t\t\t\t<h3>Schiaparelli Hemisphere Unenhanced</h3>\n",
      "\t<p>Mosaic of the Schiaparelli hemisphere of Mars projected into point&hellip;</p>\n",
      "\t\t\t</div>\n",
      "\t\t</a>\n",
      "\t<ul class=\"page-numbers\"><li><a class=\"active \" href=\"/search/map/Mars/Viking/cerberus_enhanced?p=1&pb=1#downloads\">1</a></li><li><a class=\"\" href=\"/search/map/Mars/Viking/cerberus_enhanced?p=2&pb=1#downloads\">2</a></li></ul></div></div>\n",
      "\t\t\t</div>\r\n",
      "\t\t\t\t\t\t\t<div class=\"icons projects black scroll-wrapper\">\r\n",
      "\t\t\t\t\t<div class=\"scroll\">\r\n",
      "\t\t\t\t\t\t<a title=\"Integrated Software for Imagers and Spectrometers\" href=\"http://isis.astrogeology.usgs.gov\" class=\"icon\">\r\n",
      "\t\t\t\t\t\t\t<img alt=\"ISIS Logo\" height=\"112\" width=\"112\" src=\"/images/logos/isis_2x.jpg\"/>\r\n",
      "\t\t\t\t\t\t\t<span class=\"label\">ISIS</span>\r\n",
      "\t\t\t\t\t\t</a>\r\n",
      "\t\t\t\t\t\t<a title=\"Gazetteer of Planetary Nomenclature\" href=\"http://planetarynames.wr.usgs.gov\" class=\"icon\">\r\n",
      "\t\t\t\t\t\t\t<img alt=\"Nomenclature Logo\" height=\"112\" width=\"112\" src=\"/images/logos/nomenclature_2x.jpg\"/>\r\n",
      "\t\t\t\t\t\t\t<span class=\"label\">Planetary Nomenclature</span>\r\n",
      "\t\t\t\t\t\t</a>\r\n",
      "\t\t\t\t\t\t<a title=\"Map a Planet 2\" href=\"https://astrogeology.usgs.gov/tools/map-a-planet-2\" class=\"icon\">\r\n",
      "\t\t\t\t\t\t\t<img alt=\"Map-a-Planet Logo\" height=\"112\" width=\"112\" src=\"/images/logos/map_a_planet_2x.jpg\"/>\r\n",
      "\t\t\t\t\t\t\t<span class=\"label\">Map a Planet 2</span>\r\n",
      "\t\t\t\t\t\t</a>\r\n",
      "\t\t\t\t\t\t<a title=\"PDS Cartography and Imaging Science Node\" href=\"https://www.usgs.gov/centers/astrogeo-sc/science/cartography-and-imaging-sciences-node-nasa-planetary-data-system\" class=\"icon\">\r\n",
      "\t\t\t\t\t\t\t<img alt=\"PDS Logo\" height=\"112\" src=\"/images/pds_logo-black-web.png\"/>\r\n",
      "\t\t\t\t\t\t\t<span class=\"label\">PDS Cartography and Imaging Science Node</span>\r\n",
      "\t\t\t\t\t\t</a>\r\n",
      "<!--\r\n",
      "\t\t\t\t\t\t<a title=\"Astropedia Search\" href=\"/search\" class=\"icon\">\r\n",
      "\t\t\t\t\t\t\t<img alt=\"Astropedia Logo\" height=\"112\" width=\"112\" src=\"/images/logos/astropedia_2x.jpg\"/>\r\n",
      "\t\t\t\t\t\t\t<span class=\"label\">Astropedia</span>\r\n",
      "\t\t\t\t\t\t</a>\r\n",
      "-->\r\n",
      "\t\t\t\t\t\t<a title=\"Regional Planetary Image Facility\" href=\"https://www.usgs.gov/centers/astrogeo-sc/science/regional-planetary-image-facility-rpif\" class=\"icon\">\r\n",
      "\t\t\t\t\t\t\t<img alt=\"RPIF Logo\" height=\"112\" width=\"112\" src=\"/images/logos/rpif_2x.jpg\"/>\r\n",
      "\t\t\t\t\t\t\t<span class=\"label\">RPIF</span>\r\n",
      "\t\t\t\t\t\t</a>\r\n",
      "\t\t\t\t\t\t<a title=\"Photogrammetry Guest Facility\" href=\"\" class=\"icon\">\r\n",
      "\t\t\t\t\t\t\t<img alt=\"Photogrammetry Guest Faciltiy Logo\" height=\"112\" width=\"112\" src=\"/images/logos/photogrammetry_2x.jpg\"/>\r\n",
      "\t\t\t\t\t\t\t<span class=\"label\">Photogrammetry Guest Facility</span>\r\n",
      "\t\t\t\t\t\t</a>\r\n",
      "\t\t\t\t\t\t<a title=\"Planetary Image Locator Tool\" href=\"http://pilot.wr.usgs.gov\" class=\"icon\">\r\n",
      "\t\t\t\t\t\t\t<img alt=\"Pilot Logo\" height=\"112\" width=\"112\" src=\"/images/logos/pilot_2x.jpg\"/>\r\n",
      "\t\t\t\t\t\t\t<span class=\"label\">PILOT</span>\r\n",
      "\t\t\t\t\t\t</a>\r\n",
      "\t\t\t\t\t\t<a title=\"Mapping, Remote-sensing, Cartography, Technology and Research GIS Lab\" href=\"https://www.usgs.gov/centers/astrogeo-sc/science/mrctr-gis-lab\" class=\"icon\">\r\n",
      "\t\t\t\t\t\t\t<img alt=\"MRCTR GIS Lab Logo\" height=\"112\" width=\"112\" src=\"/images/logos/mrctr_man_2x.png\"/>\r\n",
      "\t\t\t\t\t\t\t<span class=\"label\">MRCTR GIS Lab</span>\r\n",
      "\t\t\t\t\t\t</a>\r\n",
      "\t\t\t\t\t</div>\r\n",
      "\t\t\t\t</div>\r\n",
      "\t\t\t\t\t\t<footer>\r\n",
      "\t\t\t\t<div class=\"left\">\r\n",
      "\t\t\t\t\t<a href=\"http://astrogeology.usgs.gov/search\">Search</a> |\r\n",
      "\t\t\t\t\t<a href=\"http://astrogeology.usgs.gov/maps/about\">About</a> |\r\n",
      "\t\t\t\t\t<a href=\"http://astrogeology.usgs.gov/maps/contact\">Contact</a>\r\n",
      "\t\t\t\t</div>\r\n",
      "\t\t\t\t<div class=\"right\">\r\n",
      "                                        <a href=\"https://www.usgs.gov/centers/astrogeo-sc\">USGS Astrogeology Science Center</a>\r\n",
      "\t\t\t\t</div>\r\n",
      "\t\t\t</footer>\r\n",
      "\t\t</div>\r\n",
      "<!--\r\n",
      "\t\t<div class=\"credit\">\r\n",
      "\t\t\t<small>Background Credits: NASA/USGS</small>\r\n",
      "\t\t</div>\r\n",
      "-->\r\n",
      "\t\t<div class=\"page-background\" style=\"\r\n",
      "\t\t\tbackground:url('/images/backgrounds/mars.jpg');\r\n",
      "\t\t\tfilter:progid:DXImageTransform.Microsoft.AlphaImageLoader(\r\n",
      "\t\t\t\tsrc='/images/backgrounds/mars.jpg', sizingMethod='scale');\r\n",
      "\t\t\"></div>\r\n",
      "\t\t<script type=\"text/javascript\">\r\n",
      "var baseUrl = \"\";\r\n",
      "\r\n",
      "/*\r\n",
      "var _gaq = _gaq || [];_gaq.push(['_setAccount', 'UA-27613186-1']);_gaq.push(['_trackPageview']);(function() { var ga = document.createElement('script'); ga.type = 'text/javascript'; ga.async = true;ga.src = ('https:' == document.location.protocol ? 'https://ssl' : 'http://www') + '.google-analytics.com/ga.js'; var s = document.getElementsByTagName('script')[0]; s.parentNode.insertBefore(ga, s);})();\r\n",
      "*/\r\n",
      "\t\t</script>\r\n",
      "\t<script type=\"text/javascript\" src=\"https://ajax.googleapis.com/ajax/libs/jquery/1.11.1/jquery.min.js\"></script>\n",
      "<script type=\"text/javascript\" src=\"//ajax.googleapis.com/ajax/libs/jqueryui/1.11.4/jquery-ui.min.js\"></script>\n",
      "<script type=\"text/javascript\" src=\"https://astropedia.astrogeology.usgs.gov/downloadWeb/dynamic/glossary.js\"></script>\n",
      "<script type=\"text/javascript\" src=\"/js/astro-tips.js\"></script>\n",
      "<script type=\"text/javascript\" src=\"/js/general.js\"></script>\n",
      "<script type=\"text/javascript\">\n",
      "/*<![CDATA[*/\n",
      "showTooltips(\".downloads, .content dl, .listing\", true);\n",
      "/*]]>*/\n",
      "</script>\n",
      "</body>\r\n",
      "</html>\r\n",
      "\n"
     ]
    }
   ],
   "source": [
    "high_res_images = response(image1_url).text\n",
    "print(high_res_images)"
   ]
  },
  {
   "cell_type": "code",
   "execution_count": 108,
   "metadata": {},
   "outputs": [
    {
     "name": "stdout",
     "output_type": "stream",
     "text": [
      "http://astropedia.astrogeology.usgs.gov/download/Mars/Viking/cerberus_enhanced.tif\n"
     ]
    }
   ],
   "source": [
    "soup=BeautifulSoup(high_res_images, 'lxml')\n",
    "high_res_image = soup.find_all(target='_blank')[1]['href']\n",
    "print(high_res_image)"
   ]
  },
  {
   "cell_type": "code",
   "execution_count": null,
   "metadata": {},
   "outputs": [],
   "source": []
  }
 ],
 "metadata": {
  "kernelspec": {
   "display_name": "web_scrape",
   "language": "python",
   "name": "myenv"
  },
  "language_info": {
   "codemirror_mode": {
    "name": "ipython",
    "version": 3
   },
   "file_extension": ".py",
   "mimetype": "text/x-python",
   "name": "python",
   "nbconvert_exporter": "python",
   "pygments_lexer": "ipython3",
   "version": "3.7.4"
  }
 },
 "nbformat": 4,
 "nbformat_minor": 4
}
