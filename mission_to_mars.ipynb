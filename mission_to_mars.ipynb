{
 "cells": [
  {
   "cell_type": "code",
   "execution_count": 1,
   "metadata": {},
   "outputs": [],
   "source": [
    "# Install dependencies\n",
    "import pandas as pd\n",
    "import os\n",
    "from bs4 import BeautifulSoup\n",
    "import requests\n",
    "from pprint import pprint\n",
    "import json\n"
   ]
  },
  {
   "cell_type": "code",
   "execution_count": 2,
   "metadata": {},
   "outputs": [],
   "source": [
    "#URL's of pages to be scraped\n",
    "# NASA news web page = \"https://mars.nasa.gov/news/\"\n",
    "nasa_news_url = \"https://mars.nasa.gov/api/v1/news_items/?page=0&per_page=40&order=publish_date+desc%2Ccreated_at+desc&search=&blank_scope=Latest\"\n",
    "jpl_images_url = \"https://www.jpl.nasa.gov/spaceimages/?search=&category=Mars\"\n",
    "jpl_base = \"https://www.jpl.nasa.gov\"\n",
    "mars_weather_url = \"https://twitter.com/marswxreport?lang=en\"\n",
    "mars_facts_url = \"http://space-facts.com/mars/\"\n",
    "usgs_images_url = \"https://astrogeology.usgs.gov/search/results?q=hemisphere+enhanced&k1=target&v1=Mars\"\n"
   ]
  },
  {
   "cell_type": "code",
   "execution_count": 3,
   "metadata": {},
   "outputs": [],
   "source": [
    "# Response function to use requests\n",
    "def response(url):\n",
    "    response = requests.get(url)\n",
    "    return response\n",
    "# Function to write response infomration to file\n",
    "def open_file(file_name, response):\n",
    "    with open(file_name,\"w+\") as write_file:\n",
    "        json.dump(response,write_file)"
   ]
  },
  {
   "cell_type": "code",
   "execution_count": 4,
   "metadata": {},
   "outputs": [],
   "source": [
    "#Mars news scrape -we will use the JSON response from the news page.  \"https://mars.nasa.gov/api/v1/news_items/*\n",
    "# This is an API and returns a nested JSON with all the information we need (title, short description, etc.)"
   ]
  },
  {
   "cell_type": "code",
   "execution_count": 5,
   "metadata": {},
   "outputs": [],
   "source": [
    "mars_news_json = response(nasa_news_url).json()"
   ]
  },
  {
   "cell_type": "code",
   "execution_count": 6,
   "metadata": {},
   "outputs": [],
   "source": [
    "# The code below was sourced from https://hackersandslackers.com/extract-data-from-complex-json-python/\n",
    "# It extracts nested data from a complex JSON\n",
    "def extract_values(obj, key):\n",
    "    \"\"\"Pull all values of specified key from nested JSON.\"\"\"\n",
    "    arr = []\n",
    "\n",
    "    def extract(obj, arr, key):\n",
    "        \"\"\"Recursively search for values of key in JSON tree.\"\"\"\n",
    "        if isinstance(obj, dict):\n",
    "            for k, v in obj.items():\n",
    "                if isinstance(v, (dict, list)):\n",
    "                    extract(v, arr, key)\n",
    "                elif k == key:\n",
    "                    arr.append(v)\n",
    "        elif isinstance(obj, list):\n",
    "            for item in obj:\n",
    "                extract(item, arr, key)\n",
    "        return arr\n",
    "\n",
    "    results = extract(obj, arr, key)\n",
    "    return results"
   ]
  },
  {
   "cell_type": "code",
   "execution_count": 7,
   "metadata": {},
   "outputs": [],
   "source": [
    "titles = extract_values(mars_news_json,\"title\")"
   ]
  },
  {
   "cell_type": "code",
   "execution_count": 8,
   "metadata": {},
   "outputs": [],
   "source": [
    "# Extract the most recent title.  They are in order from newest to oldest in the titles list\n",
    "news_title = titles[0]"
   ]
  },
  {
   "cell_type": "code",
   "execution_count": 9,
   "metadata": {},
   "outputs": [
    {
     "name": "stdout",
     "output_type": "stream",
     "text": [
      "The pair of briefcase-sized satellites made history when they sailed past Mars in 2019.\n"
     ]
    }
   ],
   "source": [
    "# Bonus return the short paragrapgh text \"description\"\n",
    "descriptions = extract_values(mars_news_json, \"description\")\n",
    "print (descriptions[0])"
   ]
  },
  {
   "cell_type": "code",
   "execution_count": 10,
   "metadata": {},
   "outputs": [],
   "source": [
    "# Get URL for Featured JPL Mars IMage\n",
    "mars_image_text = response(jpl_images_url).text"
   ]
  },
  {
   "cell_type": "code",
   "execution_count": 11,
   "metadata": {},
   "outputs": [],
   "source": [
    "soup=BeautifulSoup(mars_image_text, 'lxml')\n",
    "footer_tag = soup.footer.a.attrs"
   ]
  },
  {
   "cell_type": "code",
   "execution_count": 12,
   "metadata": {},
   "outputs": [],
   "source": [
    "# Get the url for the featured image on the JPL Mars page\n",
    "img_url = footer_tag['data-fancybox-href']\n",
    "featured_image_url = jpl_base + img_url"
   ]
  },
  {
   "cell_type": "code",
   "execution_count": 13,
   "metadata": {},
   "outputs": [],
   "source": [
    "#get the latest Mars weather from twitter\n",
    "mars_twitter_text = response(mars_weather_url).text"
   ]
  },
  {
   "cell_type": "code",
   "execution_count": 14,
   "metadata": {},
   "outputs": [],
   "source": [
    "soup=BeautifulSoup(mars_twitter_text, 'lxml')\n",
    "mars_weather = soup.find(class_='tweet-text').get_text()"
   ]
  },
  {
   "cell_type": "code",
   "execution_count": 15,
   "metadata": {},
   "outputs": [],
   "source": [
    "# get mars facts from space-facts.com using pandas"
   ]
  },
  {
   "cell_type": "code",
   "execution_count": 16,
   "metadata": {},
   "outputs": [],
   "source": [
    "dfs = pd.read_html(mars_facts_url, header = None)[0]\\\n",
    "                            .rename(columns={0:'description', 1:'value'})"
   ]
  },
  {
   "cell_type": "code",
   "execution_count": 17,
   "metadata": {},
   "outputs": [],
   "source": [
    "# Convert string to dataframe\n",
    "mars_facts_df = pd.DataFrame(dfs)"
   ]
  },
  {
   "cell_type": "code",
   "execution_count": 18,
   "metadata": {},
   "outputs": [],
   "source": [
    "# Get mars hemisphere images from usgs\n",
    "mars_usgs_text = response(usgs_images_url).text\n",
    "astro_usgs_base_url = \"https://astrogeology.usgs.gov\""
   ]
  },
  {
   "cell_type": "code",
   "execution_count": 19,
   "metadata": {},
   "outputs": [],
   "source": [
    "soup=BeautifulSoup(mars_usgs_text, 'lxml')\n",
    "mars_usgs_tags = soup.find_all(class_='itemLink product-item')"
   ]
  },
  {
   "cell_type": "code",
   "execution_count": 20,
   "metadata": {},
   "outputs": [],
   "source": [
    "# Get names of thumbnail images\n",
    "h3_tags = soup.find_all('h3')\n",
    "titles = [t.text for t in h3_tags]"
   ]
  },
  {
   "cell_type": "code",
   "execution_count": 21,
   "metadata": {},
   "outputs": [],
   "source": [
    "# Get link to site for full size image page\n",
    "hrefs_link_page = [(astro_usgs_base_url + t.attrs['href']) for t in mars_usgs_tags]"
   ]
  },
  {
   "cell_type": "code",
   "execution_count": 22,
   "metadata": {},
   "outputs": [],
   "source": [
    "# assign the image urls to a list.  These will be used by Requests to get the high res image link\n",
    "image_urls = [hrefs_link_page[0],hrefs_link_page[1],hrefs_link_page[2],hrefs_link_page[3]]"
   ]
  },
  {
   "cell_type": "code",
   "execution_count": 23,
   "metadata": {},
   "outputs": [],
   "source": [
    "def get_high_res_link(url):\n",
    "    high_res_images = response(url).text\n",
    "    soup=BeautifulSoup(high_res_images, 'lxml')\n",
    "    link = soup.find_all(target='_blank')[0]['href']\n",
    "    return(link)"
   ]
  },
  {
   "cell_type": "code",
   "execution_count": 24,
   "metadata": {},
   "outputs": [],
   "source": [
    "# Use Requests to go to each image_url page and get the link to the high res image\n",
    "img_url = []\n",
    "for i in image_urls:\n",
    "    img_url.append(get_high_res_link(i))"
   ]
  },
  {
   "cell_type": "code",
   "execution_count": 25,
   "metadata": {},
   "outputs": [],
   "source": [
    "# Convert lists to dicts with title and img_url as keys \n",
    "# Append the dictionary with the image url string and the hemisphere title to a list. \n",
    "hemisphere_images = [{'title':titles[i],'img_url': img_url[i]} for i in range(len(img_url))]"
   ]
  },
  {
   "cell_type": "code",
   "execution_count": null,
   "metadata": {},
   "outputs": [],
   "source": []
  },
  {
   "cell_type": "code",
   "execution_count": null,
   "metadata": {},
   "outputs": [],
   "source": []
  },
  {
   "cell_type": "code",
   "execution_count": null,
   "metadata": {},
   "outputs": [],
   "source": []
  }
 ],
 "metadata": {
  "kernelspec": {
   "display_name": "webenv",
   "language": "python",
   "name": "myenv"
  },
  "language_info": {
   "codemirror_mode": {
    "name": "ipython",
    "version": 3
   },
   "file_extension": ".py",
   "mimetype": "text/x-python",
   "name": "python",
   "nbconvert_exporter": "python",
   "pygments_lexer": "ipython3",
   "version": "3.7.4"
  }
 },
 "nbformat": 4,
 "nbformat_minor": 4
}
